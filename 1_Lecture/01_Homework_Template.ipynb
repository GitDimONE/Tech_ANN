{
 "cells": [
  {
   "cell_type": "code",
   "execution_count": 60,
   "metadata": {},
   "outputs": [],
   "source": [
    "import pickle\n",
    "import numpy as np\n",
    "import PIL.Image\n",
    "import itertools\n",
    "from IPython.core.display import Image, display\n",
    "import scipy.ndimage\n",
    "import random\n",
    "import matplotlib.pylab as plt\n",
    "import tqdm\n",
    "import math\n",
    "%matplotlib inline"
   ]
  },
  {
   "cell_type": "markdown",
   "metadata": {
    "collapsed": true
   },
   "source": [
    "# Загружаем датасет"
   ]
  },
  {
   "cell_type": "code",
   "execution_count": 61,
   "metadata": {},
   "outputs": [],
   "source": [
    "with open('./hw_1_train.pickle', 'rb') as f:\n",
    "    train = pickle.load(f)\n",
    "\n",
    "with open('./hw_1_test_no_lables.pickle', 'rb') as f:\n",
    "    test_no_lables = pickle.load(f)\n",
    "\n",
    "labels, data = np.array(train['labels'], dtype=np.float64) , np.array(train['data'], dtype=np.float64) # Сonversion to float!"
   ]
  },
  {
   "cell_type": "code",
   "execution_count": 62,
   "metadata": {},
   "outputs": [],
   "source": [
    "# Show i'th image\n",
    "def show_image(img):\n",
    "    plt.imshow(img.reshape(28,28))"
   ]
  },
  {
   "cell_type": "code",
   "execution_count": 63,
   "metadata": {},
   "outputs": [
    {
     "data": {
      "image/png": "[encoded data removed]",
      "text/plain": [
       "<Figure size 432x288 with 1 Axes>"
      ]
     },
     "metadata": {},
     "output_type": "display_data"
    }
   ],
   "source": [
    "# Normalizing and classification -1/+1\n",
    "def pixel_norm(x):\n",
    "    for img in x:\n",
    "        img = img/255\n",
    "    return x\n",
    "\n",
    "def classification(y):\n",
    "    for label in y:\n",
    "        label=-1 if label==5 else 1\n",
    "    return y\n",
    "\n",
    "data = pixel_norm(data)\n",
    "labels = classification(labels)\n",
    "\n",
    "show_image(data[0])"
   ]
  },
  {
   "cell_type": "markdown",
   "metadata": {},
   "source": [
    "# Создание модели"
   ]
  },
  {
   "cell_type": "code",
   "execution_count": 64,
   "metadata": {},
   "outputs": [],
   "source": [
    "# Creating two perceptrons in output layer\n",
    "'''Global weight declaration for multiple runs capabilities'''\n",
    "\n",
    "np.random.seed(10)\n",
    "w = np.random.normal(scale=0.001, size = data.shape[1])"
   ]
  },
  {
   "cell_type": "code",
   "execution_count": 65,
   "metadata": {},
   "outputs": [],
   "source": [
    "# k-fold Cross Validation Scheme with shuffling\n",
    "'''k-fold must be 'None' or 2,3..'''\n",
    "\n",
    "k_fold = 20\n",
    "\n",
    "def cross_validation(data, labels):\n",
    "    global x_train, y_train\n",
    "    data_set = np.insert(data, 0, labels, axis=1) # Insert labels(y) in each image(x) row\n",
    "    random.shuffle(data_set)\n",
    "    if k_fold != None:\n",
    "        global x_valid, y_valid \n",
    "        train = np.asarray([x for i, x in enumerate(data_set) if i % k_fold != 1])\n",
    "        valid = np.asarray([x for i, x in enumerate(data_set) if i % k_fold == 1])\n",
    "        y_train, x_train = train[:, 0], train[:, np.r_[1:train.shape[1]]] \n",
    "        y_valid, x_valid = valid[:, 0], valid[:, np.r_[1:train.shape[1]]]\n",
    "        print(\"Training images:\", x_train.shape[0])\n",
    "        print(\"Validation images:\", x_valid.shape[0])\n",
    "    else:\n",
    "        train = np.asarray(data_set)\n",
    "        y_train, x_train = train[:, 0], train[:, np.r_[1:train.shape[1]]]\n",
    "        print(\"Validation images:\", x_train.shape[0])"
   ]
  },
  {
   "cell_type": "markdown",
   "metadata": {},
   "source": [
    "# Обучаем модель"
   ]
  },
  {
   "cell_type": "code",
   "execution_count": 66,
   "metadata": {},
   "outputs": [],
   "source": [
    "# Stochastic gradient descent\n",
    "def grad(x, y, weight):\n",
    "    return (-1)*y*x/(1 + np.exp(y*np.dot(weight.T, x))) + (reg_param**2)*weight"
   ]
  },
  {
   "cell_type": "code",
   "execution_count": 67,
   "metadata": {},
   "outputs": [],
   "source": [
    "# Logloss calculation\n",
    "def logloss(x, y, weight):\n",
    "    buffer = 0\n",
    "    for i,img in enumerate(x):\n",
    "        buffer += np.log(1 + np.exp(-y[i]*np.dot(weight.T, img)))\n",
    "    return buffer"
   ]
  },
  {
   "cell_type": "code",
   "execution_count": 68,
   "metadata": {},
   "outputs": [],
   "source": [
    "# SGD\n",
    "def SGD(x, y, weight):\n",
    "    return learn_rate*grad(x, y, weight)"
   ]
  },
  {
   "cell_type": "code",
   "execution_count": 69,
   "metadata": {},
   "outputs": [],
   "source": [
    "def accuracy(x, y, weight):\n",
    "    n_all = x.shape[0]\n",
    "    n_true = 0\n",
    "    for i,img in enumerate(x):\n",
    "        probability = 1/(1+np.exp(-y[i]*np.dot(weight.T, img)))\n",
    "        if probability > 0.5:\n",
    "            y_predicted = 1\n",
    "        else:\n",
    "            y_predicted = -1\n",
    "        if (y_predicted == y[i]):\n",
    "            n_true += 1\n",
    "    return n_true/n_all"
   ]
  },
  {
   "cell_type": "code",
   "execution_count": 70,
   "metadata": {},
   "outputs": [],
   "source": [
    "# Learning epoch\n",
    "def launch_train(w):\n",
    "    buf_loss_train = 0\n",
    "    buf_loss_valid = 0\n",
    "    loss_tr = []\n",
    "    loss_val = []\n",
    "    acc_tr = []\n",
    "    acc_val = []\n",
    "    epoch = int(y_train.shape[0]/num_of_epoch)\n",
    "    for it in tqdm.tqdm_notebook(range(epoch)):\n",
    "        j = np.random.randint(0, y_train.shape[0])    \n",
    "        \n",
    "        w -= SGD(x_train[j], y_train[j], w)\n",
    "        \n",
    "        buf_loss_train = logloss(x_train, y_train, w)\n",
    "              \n",
    "        if ((it+1) % batch_size == 0):\n",
    "            buf_loss_valid = logloss(x_valid, y_valid, w)\n",
    "            \n",
    "            loss_tr = np.append(loss_tr, (buf_loss_train/batch_size))  \n",
    "            loss_val = np.append(loss_val, (buf_loss_valid/batch_size))            \n",
    "            \n",
    "            acc_tr = np.append(acc_tr, accuracy(x_train, y_train, w))\n",
    "            acc_val = np.append(acc_val, accuracy(x_valid, y_valid, w))\n",
    "            \n",
    "            buf_loss_train = 0      \n",
    "    return loss_tr, loss_val, acc_tr, acc_val"
   ]
  },
  {
   "cell_type": "code",
   "execution_count": 71,
   "metadata": {},
   "outputs": [
    {
     "name": "stdout",
     "output_type": "stream",
     "text": [
      "Training images: 9500\n",
      "Validation images: 500\n"
     ]
    },
    {
     "data": {
      "application/vnd.jupyter.widget-view+json": {
       "model_id": "504b1006ad1d4f069eb417c489e11bb2",
       "version_major": 2,
       "version_minor": 0
      },
      "text/plain": [
       "HBox(children=(IntProgress(value=0, max=95), HTML(value='')))"
      ]
     },
     "metadata": {},
     "output_type": "display_data"
    },
    {
     "name": "stdout",
     "output_type": "stream",
     "text": [
      "\n"
     ]
    }
   ],
   "source": [
    "# Launch\n",
    "batch_size = 10\n",
    "num_of_epoch = 100\n",
    "reg_param = 0.01\n",
    "learn_rate = 0.001\n",
    "\n",
    "cross_validation(data, labels)\n",
    "loss_train, loss_valid, acc_train, acc_valid = launch_train(w)"
   ]
  },
  {
   "cell_type": "code",
   "execution_count": 72,
   "metadata": {},
   "outputs": [
    {
     "name": "stdout",
     "output_type": "stream",
     "text": [
      "Training Loss:  7.664979762011685e-14\n"
     ]
    },
    {
     "data": {
      "image/png": "[encoded data removed]",
      "text/plain": [
       "<Figure size 432x288 with 1 Axes>"
      ]
     },
     "metadata": {},
     "output_type": "display_data"
    }
   ],
   "source": [
    "plt.title('Loss')\n",
    "plt.plot(loss_train, label='train')\n",
    "plt.plot(loss_valid, label='test')\n",
    "plt.legend()\n",
    "\n",
    "print(\"Training Loss: \", loss_train[-1])"
   ]
  },
  {
   "cell_type": "code",
   "execution_count": 73,
   "metadata": {},
   "outputs": [
    {
     "data": {
      "text/plain": [
       "<matplotlib.legend.Legend at 0x7f9e704547f0>"
      ]
     },
     "execution_count": 73,
     "metadata": {},
     "output_type": "execute_result"
    },
    {
     "data": {
      "image/png": "[encoded data removed]",
      "text/plain": [
       "<Figure size 432x288 with 1 Axes>"
      ]
     },
     "metadata": {},
     "output_type": "display_data"
    }
   ],
   "source": [
    "plt.title('Acc')\n",
    "plt.plot(acc_train, label='train')\n",
    "plt.plot(acc_valid, label='test')\n",
    "plt.legend()"
   ]
  },
  {
   "cell_type": "code",
   "execution_count": 15,
   "metadata": {},
   "outputs": [
    {
     "name": "stdout",
     "output_type": "stream",
     "text": [
      "Вероятность того, что это 5 -  0.6524956374101241 ;\n",
      "Вероятность того, что это 6 -  0.34750436258987594\n"
     ]
    },
    {
     "data": {
      "image/png": "[encoded data removed]",
      "text/plain": [
       "<Figure size 432x288 with 1 Axes>"
      ]
     },
     "metadata": {},
     "output_type": "display_data"
    }
   ],
   "source": [
    "def predict(x): \n",
    "    return 1 / (1 + np.exp(-np.dot(w, x)))\n",
    "\n",
    "\n",
    "p_valid = np.zeros((x_valid.shape[0]))\n",
    "\n",
    "\n",
    "for i in range(x_valid.shape[0]):\n",
    "    p_valid[i] = predict(x_valid[i])\n",
    "    \n",
    "\n",
    "k = 499\n",
    "print(\"Вероятность того, что это 5 - \", 1 - p_valid[k], \";\\nВероятность того, что это 6 - \", p_valid[k])\n",
    "show_image(x_valid[k])\n"
   ]
  },
  {
   "cell_type": "code",
   "execution_count": 16,
   "metadata": {},
   "outputs": [
    {
     "name": "stdout",
     "output_type": "stream",
     "text": [
      "0.4269508257691354\n"
     ]
    }
   ],
   "source": [
    "def logloss(true_label, p):\n",
    "    if true_label == 1:\n",
    "        return -np.log(p)\n",
    "    else:\n",
    "        return -np.log(1 - p)\n",
    "    \n",
    "for i in range(x_valid.shape[0]):\n",
    "    lgs_buf = logloss(y_valid[i], p_valid[i])  \n",
    "    \n",
    "print(lgs_buf)"
   ]
  },
  {
   "cell_type": "markdown",
   "metadata": {},
   "source": [
    "# Оцениваем результат"
   ]
  },
  {
   "cell_type": "markdown",
   "metadata": {},
   "source": [
    "Обязательно отрисуйте 2 графика:\n",
    "- loss на обучающем и тестовом множесте\n",
    "- % правильно классифицированных примеров на тестовом и обучающем множестве"
   ]
  },
  {
   "cell_type": "code",
   "execution_count": 17,
   "metadata": {},
   "outputs": [
    {
     "ename": "NameError",
     "evalue": "name 'logloss_array' is not defined",
     "output_type": "error",
     "traceback": [
      "\u001b[0;31m---------------------------------------------------------------------------\u001b[0m",
      "\u001b[0;31mNameError\u001b[0m                                 Traceback (most recent call last)",
      "\u001b[0;32m<ipython-input-17-63a53e5de8bc>\u001b[0m in \u001b[0;36m<module>\u001b[0;34m()\u001b[0m\n\u001b[1;32m      1\u001b[0m \u001b[0mplt\u001b[0m\u001b[0;34m.\u001b[0m\u001b[0mtitle\u001b[0m\u001b[0;34m(\u001b[0m\u001b[0;34m'Loss'\u001b[0m\u001b[0;34m)\u001b[0m\u001b[0;34m\u001b[0m\u001b[0m\n\u001b[0;32m----> 2\u001b[0;31m \u001b[0mplt\u001b[0m\u001b[0;34m.\u001b[0m\u001b[0mplot\u001b[0m\u001b[0;34m(\u001b[0m\u001b[0mlogloss_array\u001b[0m\u001b[0;34m[\u001b[0m\u001b[0;36m0\u001b[0m\u001b[0;34m]\u001b[0m\u001b[0;34m,\u001b[0m \u001b[0mlabel\u001b[0m\u001b[0;34m=\u001b[0m\u001b[0;34m'train'\u001b[0m\u001b[0;34m)\u001b[0m\u001b[0;34m\u001b[0m\u001b[0m\n\u001b[0m\u001b[1;32m      3\u001b[0m \u001b[0mplt\u001b[0m\u001b[0;34m.\u001b[0m\u001b[0mplot\u001b[0m\u001b[0;34m(\u001b[0m\u001b[0;34m[\u001b[0m\u001b[0me\u001b[0m\u001b[0;34m[\u001b[0m\u001b[0;36m0\u001b[0m\u001b[0;34m]\u001b[0m \u001b[0;32mfor\u001b[0m \u001b[0me\u001b[0m \u001b[0;32min\u001b[0m \u001b[0mte_eval\u001b[0m\u001b[0;34m]\u001b[0m\u001b[0;34m,\u001b[0m \u001b[0mlabel\u001b[0m\u001b[0;34m=\u001b[0m\u001b[0;34m'test'\u001b[0m\u001b[0;34m)\u001b[0m\u001b[0;34m\u001b[0m\u001b[0m\n\u001b[1;32m      4\u001b[0m \u001b[0mplt\u001b[0m\u001b[0;34m.\u001b[0m\u001b[0mlegend\u001b[0m\u001b[0;34m(\u001b[0m\u001b[0;34m)\u001b[0m\u001b[0;34m\u001b[0m\u001b[0m\n",
      "\u001b[0;31mNameError\u001b[0m: name 'logloss_array' is not defined"
     ]
    },
    {
     "data": {
      "image/png": "[encoded data removed]",
      "text/plain": [
       "<Figure size 432x288 with 1 Axes>"
      ]
     },
     "metadata": {},
     "output_type": "display_data"
    }
   ],
   "source": [
    "plt.title('Loss')\n",
    "plt.plot(logloss_array[0], label='train')\n",
    "plt.plot([e[0] for e in te_eval], label='test')\n",
    "plt.legend()"
   ]
  },
  {
   "cell_type": "code",
   "execution_count": null,
   "metadata": {},
   "outputs": [],
   "source": [
    "plt.title('Acc')\n",
    "plt.plot([e[1] for e in tr_eval], label='train')\n",
    "plt.plot([e[1] for e in te_eval], label='test')\n",
    "plt.legend()"
   ]
  },
  {
   "cell_type": "markdown",
   "metadata": {},
   "source": [
    "# Сохраняем данные для кагла"
   ]
  },
  {
   "cell_type": "markdown",
   "metadata": {},
   "source": [
    "https://www.kaggle.com/t/513ea517806348848dc78c4f41d44528"
   ]
  },
  {
   "cell_type": "markdown",
   "metadata": {},
   "source": [
    "Результат записывается в простой текстовый файл. Первая строчка \"Id,Prediction\", далее для каждого примера из валидационного множества записывается его Id (порядковый номер, с нуля) и вероятность принадлежности к классу '6', например '123,0.12'.\n",
    "\n",
    "Важно соблюдать тот же порядок следования элементов, что и в наборе данных. Нумерация id с 0"
   ]
  },
  {
   "cell_type": "code",
   "execution_count": 21,
   "metadata": {},
   "outputs": [
    {
     "name": "stdout",
     "output_type": "stream",
     "text": [
      "0.4988092886654774\n"
     ]
    },
    {
     "data": {
      "image/png": "[encoded data removed]",
      "text/plain": [
       "<Figure size 432x288 with 1 Axes>"
      ]
     },
     "metadata": {},
     "output_type": "display_data"
    }
   ],
   "source": [
    "X = np.asfarray(test_no_lables['data'])\n",
    "X = X / 255\n",
    "\n",
    "# compute Y_pred\n",
    "Y_pred = np.zeros(X.shape[0], dtype=float)\n",
    "for i in range(X.shape[0]):\n",
    "    Y_pred[i] = predict(X[i])    \n",
    "\n",
    "with open('solution.csv', 'w') as fout:\n",
    "    print(\"Id,Prediction\", file=fout)\n",
    "    for i in range(X.shape[0]):\n",
    "        print(i, Y_pred[i], sep=',', file=fout)\n",
    "\n",
    "k = 789\n",
    "show_image(X[k])\n",
    "print(Y_pred[k])"
   ]
  },
  {
   "cell_type": "markdown",
   "metadata": {},
   "source": [
    "# Сдача"
   ]
  },
  {
   "cell_type": "markdown",
   "metadata": {},
   "source": [
    "1. Регистрируетесь на конкурс https://www.kaggle.com/t/513ea517806348848dc78c4f41d44528 \n",
    "1. Преодолеваете \"Pass level\" baseline\n",
    "1. После того, как вы преодолеете baseline, присылайте ноутбук с решение по адресу **voropaev@corp.mail.ru**\n",
    "\n",
    "# Внимание\n",
    "- Тему письма писать в формате \"[МИФИ][1] Фамилия\"\n",
    "- Внутри писма прикрепляете файл ноутбука с именем family.ipynb"
   ]
  }
 ],
 "metadata": {
  "kernelspec": {
   "display_name": "Python 3",
   "language": "python",
   "name": "python3"
  },
  "language_info": {
   "codemirror_mode": {
    "name": "ipython",
    "version": 3
   },
   "file_extension": ".py",
   "mimetype": "text/x-python",
   "name": "python",
   "nbconvert_exporter": "python",
   "pygments_lexer": "ipython3",
   "version": "3.6.5"
  }
 },
 "nbformat": 4,
 "nbformat_minor": 2
}
