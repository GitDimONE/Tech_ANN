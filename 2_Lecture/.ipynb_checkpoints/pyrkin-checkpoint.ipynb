{
 "cells": [
  {
   "cell_type": "code",
   "execution_count": 1,
   "metadata": {},
   "outputs": [
    {
     "name": "stderr",
     "output_type": "stream",
     "text": [
      "C:\\ProgramData\\Anaconda3\\lib\\site-packages\\sklearn\\cross_validation.py:41: DeprecationWarning: This module was deprecated in version 0.18 in favor of the model_selection module into which all the refactored classes and functions are moved. Also note that the interface of the new CV iterators are different from that of this module. This module will be removed in 0.20.\n",
      "  \"This module will be removed in 0.20.\", DeprecationWarning)\n"
     ]
    }
   ],
   "source": [
    "import numpy as np\n",
    "import matplotlib.pyplot as plt\n",
    "import pickle\n",
    "from sklearn.cross_validation import train_test_split\n",
    "import tqdm\n",
    "%matplotlib inline"
   ]
  },
  {
   "cell_type": "code",
   "execution_count": 2,
   "metadata": {},
   "outputs": [],
   "source": [
    "# класс one-hot encoder'а для MNIST\n",
    "class OneHotEncoder:\n",
    "    def __init__(self):\n",
    "        self.transform_mapping = np.zeros((10,10))\n",
    "        for i in range(self.transform_mapping.shape[0]):\n",
    "            self.transform_mapping[i][i] = 1.0\n",
    "    def transform(self, y):\n",
    "        return self.transform_mapping[int(y)]"
   ]
  },
  {
   "cell_type": "code",
   "execution_count": 3,
   "metadata": {},
   "outputs": [],
   "source": [
    "def make_submission(X_test, net, fname=\"my_submission.csv\"):\n",
    "    with open(fname,'w') as fout:\n",
    "        fout.write('Id,Category')\n",
    "        for i in range(X_test.shape[0]):\n",
    "            y_h = net.forward(X_test[i])\n",
    "            y = np.argmax(y_h)\n",
    "            fout.write(\"\\n{},{}\".format(i, int(y)))"
   ]
  },
  {
   "cell_type": "code",
   "execution_count": 4,
   "metadata": {},
   "outputs": [],
   "source": [
    "# внимание, тут Y_test в обычном формате(не onehot)\n",
    "def compute_acc(X_test, Y_test, net):\n",
    "    acc = 0.0\n",
    "    for i in range(X_test.shape[0]):\n",
    "        y_h = net.forward(X_test[i])\n",
    "        y = np.argmax(y_h)\n",
    "        if(y == np.argmax(Y_test[i])):\n",
    "            acc += 1.0\n",
    "    return acc / Y_test.shape[0]"
   ]
  },
  {
   "cell_type": "code",
   "execution_count": 5,
   "metadata": {},
   "outputs": [],
   "source": [
    "train_data = None\n",
    "test_data = None\n",
    "encoder = OneHotEncoder()\n",
    "with open('data_train.pickle','rb') as fin:\n",
    "    train_data = pickle.load(fin)\n",
    "with open('data_test_no_labels.pickle','rb') as fin:\n",
    "    test_data = pickle.load(fin)\n",
    "    \n",
    "X_train = train_data['data']\n",
    "Y_train = train_data['target']\n",
    "Y_train_oh = np.array(list(map(lambda x : encoder.transform(x), Y_train)))\n",
    "\n",
    "X_test = test_data['data']"
   ]
  },
  {
   "cell_type": "code",
   "execution_count": 6,
   "metadata": {},
   "outputs": [
    {
     "data": {
      "image/png": "[encoded data removed]",
      "text/plain": [
       "<Figure size 432x288 with 16 Axes>"
      ]
     },
     "metadata": {
      "needs_background": "light"
     },
     "output_type": "display_data"
    }
   ],
   "source": [
    "n=4\n",
    "for i in range(n*n):\n",
    "    plt.subplot(n,n,i+1)\n",
    "    I = train_data['data'][np.random.randint(0, X_train.shape[0]),:]\n",
    "    I = I.reshape((28, 28))\n",
    "    plt.imshow(I, cmap='gray')"
   ]
  },
  {
   "cell_type": "code",
   "execution_count": 7,
   "metadata": {},
   "outputs": [],
   "source": [
    "# Подготовка датасета\n",
    "X_train = X_train.astype('float')\n",
    "mean = np.mean(X_train, axis=0)\n",
    "std = np.std(X_train, axis=0)\n",
    "X_train = (X_train - mean) / (std + 0.001)\n",
    "\n",
    "x_train, x_test, y_train, y_test = train_test_split(X_train, Y_train_oh, test_size=0.2, random_state=40)"
   ]
  },
  {
   "cell_type": "code",
   "execution_count": 8,
   "metadata": {},
   "outputs": [],
   "source": [
    "# Определение слоев сети\n",
    "# Dense:\n",
    "class Dense:\n",
    "    def __init__(self, in_size, out_size, rlambda = 0.0):\n",
    "        self.W = np.random.normal(scale=0.01, size=(out_size, in_size)) * np.sqrt(2/(out_size + in_size))\n",
    "        self.b = np.zeros(out_size)\n",
    "        self.rlambda = rlambda\n",
    "        \n",
    "    def forward(self, x):\n",
    "        self.x = x # запоминаем для обратного прохода\n",
    "        return np.dot(self.W, x) + self.b\n",
    "    \n",
    "    def get_reg_loss(self):\n",
    "        return 0.5 * self.rlambda * (np.linalg.norm(self.W, ord='fro') ** 2)\n",
    "    \n",
    "    def backward(self, dz, lr=0.001):\n",
    "        # вычисляем градиенты по параметрам (запоминаем их для отладки)\n",
    "        self.dW = np.outer(dz, self.x)\n",
    "        self.db = dz\n",
    "        # вычисляем производную по входу\n",
    "        self.dx = np.matmul(dz, self.W) \n",
    "        # рассчитываем градиенты от регуляризатора\n",
    "        if(self.rlambda != 0):\n",
    "            self.dW += self.rlambda * self.W\n",
    "        # обновляем веса\n",
    "        self.W = self.W - lr * self.dW\n",
    "        self.b = self.b - lr * self.db\n",
    "        # возвращаем dx для продолжения алгоритма\n",
    "        return self.dx\n",
    "\n",
    "# ReLu:\n",
    "class Max:\n",
    "    \n",
    "    def forward(self, x):\n",
    "        self.x = x\n",
    "        return np.maximum(0, x)\n",
    "    \n",
    "    def backward(self, dz, lr=0.001):\n",
    "        dz[self.x < 0] = 0\n",
    "        return dz\n",
    "    \n",
    "# Softmax:\n",
    "class Softmax:\n",
    "    \n",
    "    def forward(self, x):\n",
    "        x = x - np.max(x)\n",
    "        self.x = x\n",
    "        exps = np.exp(x)\n",
    "        return exps / np.sum(exps)\n",
    "    \n",
    "    def backward(self, dz, lr=0.001):\n",
    "        soft_max = self.forward(self.x)\n",
    "        self.grad_softmax = soft_max * (np.eye(soft_max.shape[0], soft_max.shape[0]) - soft_max).T\n",
    "        return np.dot(dz, self.grad_softmax)\n",
    "    \n",
    "# CrossEntropy:\n",
    "class CrossEntropy:\n",
    "    \n",
    "    def forward(self, y_true, y_hat):\n",
    "        self.yt = y_true\n",
    "        self.yh = y_hat\n",
    "        return -np.sum(y_true * np.log(y_hat))\n",
    "    \n",
    "    def backward(self, dz, lr=0.001):\n",
    "        return (-1) * dz * self.yt.astype('float') / self.yh\n",
    "\n",
    "# Dropout:\n",
    "class Dropout:\n",
    "    def __init__(self, p = 0.5):\n",
    "        self.p = p\n",
    "        self.train = True\n",
    "    \n",
    "    def set_train(self, train = True):\n",
    "        self.train = train\n",
    "    \n",
    "    def forward(self, x):\n",
    "        if not self.train:\n",
    "            self.mask = np.ones(*x.shape)\n",
    "            return x\n",
    "        self.mask = ( np.random.rand(*x.shape) > self.p ) / (1.0 - self.p)\n",
    "        return x * self.mask\n",
    "        \n",
    "    def backward(self, dz, lr=0.001):\n",
    "        return dz * self.mask"
   ]
  },
  {
   "cell_type": "code",
   "execution_count": 9,
   "metadata": {},
   "outputs": [],
   "source": [
    "# Опеределение самой сети\n",
    "# MnistNet:\n",
    "class MnistNet:\n",
    "    \n",
    "    def __init__(self, rlambda=0.0):\n",
    "        self.drop1 = Dropout()\n",
    "        self.d1 = Dense(784, 150, rlambda)\n",
    "        self.m = Max()\n",
    "        self.drop2 = Dropout()\n",
    "        self.d2 = Dense(150, 10, rlambda)\n",
    "        self.s = Softmax()\n",
    "    \n",
    "    def forward(self, x):\n",
    "        net = self.drop1.forward(x)\n",
    "        net = self.d1.forward(net)\n",
    "        net = self.m.forward(net)\n",
    "        net = self.drop2.forward(net)\n",
    "        net = self.d2.forward(net)        \n",
    "        net = self.s.forward(net)\n",
    "        return net\n",
    "    \n",
    "    def backward(self, dz, lr):\n",
    "        dz = self.s.backward(dz, lr)\n",
    "        dz = self.d2.backward(dz, lr)\n",
    "        dz = self.drop2.backward(dz, lr)        \n",
    "        dz = self.m.backward(dz, lr)\n",
    "        dz = self.d1.backward(dz, lr)\n",
    "        dz = self.drop1.backward(dz, lr)\n",
    "        return dz"
   ]
  },
  {
   "cell_type": "code",
   "execution_count": 10,
   "metadata": {},
   "outputs": [
    {
     "data": {
      "application/vnd.jupyter.widget-view+json": {
       "model_id": "3a761b5e1c9e4a15898f78069c534959",
       "version_major": 2,
       "version_minor": 0
      },
      "text/plain": [
       "HBox(children=(IntProgress(value=0, max=20), HTML(value='')))"
      ]
     },
     "metadata": {},
     "output_type": "display_data"
    },
    {
     "name": "stdout",
     "output_type": "stream",
     "text": [
      "0 epoch loss. Train : 0.5409527998863147 . Test : 0.23950377044978396\n",
      "1 epoch loss. Train : 0.24351606527992364 . Test : 0.18573498184881135\n",
      "2 epoch loss. Train : 0.19097065529015986 . Test : 0.14713252320053352\n",
      "3 epoch loss. Train : 0.15379636369363173 . Test : 0.13087928308159494\n",
      "4 epoch loss. Train : 0.13602068217940794 . Test : 0.12623293034778385\n",
      "5 epoch loss. Train : 0.12122975243584051 . Test : 0.10602743003720967\n",
      "6 epoch loss. Train : 0.11381583132024677 . Test : 0.1058448573264518\n",
      "7 epoch loss. Train : 0.11536772359050881 . Test : 0.11204939804805343\n",
      "8 epoch loss. Train : 0.10036319015629838 . Test : 0.110809749681159\n",
      "9 epoch loss. Train : 0.09434985188036903 . Test : 0.09687149400581584\n",
      "10 epoch loss. Train : 0.08688254456183114 . Test : 0.103196094971536\n",
      "11 epoch loss. Train : 0.0840961188062026 . Test : 0.09495893064183734\n",
      "12 epoch loss. Train : 0.07754578123442991 . Test : 0.09904584993260374\n",
      "13 epoch loss. Train : 0.07867577569503852 . Test : 0.09745274074257732\n",
      "14 epoch loss. Train : 0.07650261511635638 . Test : 0.09326105825485502\n",
      "15 epoch loss. Train : 0.07694074953079794 . Test : 0.09740548623175249\n",
      "16 epoch loss. Train : 0.07322942247447349 . Test : 0.09571319159327123\n",
      "17 epoch loss. Train : 0.06416438686008478 . Test : 0.08932821386671776\n",
      "18 epoch loss. Train : 0.06431978000670784 . Test : 0.09606476658505711\n",
      "19 epoch loss. Train : 0.06929140411401975 . Test : 0.08602092733662772\n",
      "\n",
      "Accuracy: 97.56\n"
     ]
    }
   ],
   "source": [
    "# Здесь процедура обучения\n",
    "net = MnistNet(0.0002)\n",
    "net.drop1.p = 0.3\n",
    "net.drop2.p = 0.05\n",
    "loss = CrossEntropy()\n",
    "lr = 0.0017\n",
    "L_train = []\n",
    "L_test = []\n",
    "Acc = []\n",
    "for epoch in tqdm.tqdm_notebook(range(20)):\n",
    "    L_acc = 0.\n",
    "    sh = list(range(x_train.shape[0]))\n",
    "    np.random.shuffle(sh)\n",
    "    net.drop1.train = True # включаем Dropout для train\n",
    "    net.drop2.train = True\n",
    "    for i in range(x_train.shape[0]):\n",
    "        x = x_train[sh[i]]\n",
    "        y = y_train[sh[i]]\n",
    "        y_h = net.forward(x)\n",
    "        L = loss.forward(y, y_h)\n",
    "        L_acc += L \n",
    "        dz = loss.backward(1, lr)\n",
    "        dz = net.backward(dz, lr)\n",
    "    L_acc /= y_train.shape[0]\n",
    "    L_train.append(L_acc)\n",
    "    L_e_acc = 0.\n",
    "    net.drop1.train = False # выключаем Dropout для test\n",
    "    net.drop2.train = False\n",
    "    for i in range(y_test.shape[0]):\n",
    "        x = x_test[i]\n",
    "        y = y_test[i]\n",
    "        y_h = net.forward(x)\n",
    "        L = loss.forward(y, y_h)\n",
    "        L_e_acc += L\n",
    "    L_e_acc /= y_test.shape[0]\n",
    "    L_test.append(L_e_acc)\n",
    "    Acc.append(compute_acc(x_test, y_test, net))\n",
    "    print(\"{} epoch loss. Train : {} . Test : {}\".format(epoch, L_acc, L_e_acc))\n",
    "print(\"Accuracy: %.2f\" % (100*Acc[-1]))"
   ]
  },
  {
   "cell_type": "code",
   "execution_count": 11,
   "metadata": {},
   "outputs": [
    {
     "data": {
      "text/plain": [
       "[<matplotlib.lines.Line2D at 0x16894ea9358>]"
      ]
     },
     "execution_count": 11,
     "metadata": {},
     "output_type": "execute_result"
    },
    {
     "data": {
      "image/png": "[encoded data removed]",
      "text/plain": [
       "<Figure size 432x288 with 1 Axes>"
      ]
     },
     "metadata": {
      "needs_background": "light"
     },
     "output_type": "display_data"
    }
   ],
   "source": [
    "# Здесь необходимо отрисовать графики CrossEntropyLoss для обучающей и валидационной выборок\n",
    "plt.plot(L_train, label='train')\n",
    "plt.plot(L_test, label='test')"
   ]
  },
  {
   "cell_type": "code",
   "execution_count": 12,
   "metadata": {},
   "outputs": [],
   "source": [
    "# формируем сабмишшен и заливаем его на kaggle\n",
    "X_test = X_test.astype('float')\n",
    "X_test_norm = (X_test - mean) / (std + 0.001)\n",
    "\n",
    "make_submission(X_test_norm, net)"
   ]
  }
 ],
 "metadata": {
  "kernelspec": {
   "display_name": "Python 3",
   "language": "python",
   "name": "python3"
  },
  "language_info": {
   "codemirror_mode": {
    "name": "ipython",
    "version": 3
   },
   "file_extension": ".py",
   "mimetype": "text/x-python",
   "name": "python",
   "nbconvert_exporter": "python",
   "pygments_lexer": "ipython3",
   "version": "3.6.6"
  }
 },
 "nbformat": 4,
 "nbformat_minor": 2
}
