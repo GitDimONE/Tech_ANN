{
 "cells": [
  {
   "cell_type": "code",
   "execution_count": null,
   "metadata": {},
   "outputs": [],
   "source": [
    "import pickle\n",
    "import numpy as np\n",
    "import PIL.Image\n",
    "import itertools\n",
    "from IPython.core.display import Image, display\n",
    "import scipy.ndimage\n",
    "import random\n",
    "import matplotlib.pylab as plt\n",
    "import tqdm\n",
    "import math\n",
    "%matplotlib inline"
   ]
  },
  {
   "cell_type": "markdown",
   "metadata": {
    "collapsed": true
   },
   "source": [
    "# Загружаем датасет"
   ]
  },
  {
   "cell_type": "code",
   "execution_count": null,
   "metadata": {},
   "outputs": [],
   "source": [
    "with open('./hw_1_train.pickle', 'rb') as f:\n",
    "    train = pickle.load(f)\n",
    "\n",
    "with open('./hw_1_test_no_lables.pickle', 'rb') as f:\n",
    "    test_no_lables = pickle.load(f)\n",
    "\n",
    "labels, data = np.asfarray(train['labels']) , np.asfarray(train['data'])"
   ]
  },
  {
   "cell_type": "code",
   "execution_count": null,
   "metadata": {},
   "outputs": [],
   "source": [
    "# Show i'th image\n",
    "def show_image(img):\n",
    "    plt.imshow(img.reshape(28,28))"
   ]
  },
  {
   "cell_type": "code",
   "execution_count": null,
   "metadata": {},
   "outputs": [],
   "source": [
    "# Normalizing and classification -1/1\n",
    "def pixel_norm(x):\n",
    "    for i,img in enumerate(x):\n",
    "        mean = np.mean(img, axis=0)\n",
    "        std = np.std(img, axis=0)\n",
    "        x[i] = (img - mean)/std\n",
    "    return x\n",
    "\n",
    "def classification(y):\n",
    "    for i,label in enumerate(y):\n",
    "        y[i]=1 if label==6 else -1\n",
    "    return y\n",
    "\n",
    "#data = pixel_norm(data)\n",
    "data = data / 255\n",
    "labels = classification(labels)"
   ]
  },
  {
   "cell_type": "markdown",
   "metadata": {},
   "source": [
    "# Создание модели"
   ]
  },
  {
   "cell_type": "code",
   "execution_count": null,
   "metadata": {},
   "outputs": [],
   "source": [
    "# k-fold Cross Validation Scheme with shuffling\n",
    "'''k-fold must be 'None' or 2,3..'''\n",
    "\n",
    "def cross_validation(data, labels, k_fold=None):\n",
    "    global x_train, y_train\n",
    "    data_set = np.insert(data, 0, labels, axis=1) # Insert labels(y) in each image(x) row\n",
    "    random.shuffle(data_set)\n",
    "    if k_fold != None:\n",
    "        global x_valid, y_valid \n",
    "        train = np.asfarray([x for i, x in enumerate(data_set) if i % k_fold != 1])\n",
    "        valid = np.asfarray([x for i, x in enumerate(data_set) if i % k_fold == 1])\n",
    "        y_train, x_train = train[:, 0], train[:, np.r_[1:train.shape[1]]] \n",
    "        y_valid, x_valid = valid[:, 0], valid[:, np.r_[1:train.shape[1]]]\n",
    "        print(\"Training images:\", x_train.shape[0])\n",
    "        print(\"Validation images:\", x_valid.shape[0])\n",
    "    else:\n",
    "        train = np.asfarray(data_set)\n",
    "        y_train, x_train = train[:, 0], train[:, np.r_[1:train.shape[1]]]\n",
    "        print(\"Validation images:\", x_train.shape[0])"
   ]
  },
  {
   "cell_type": "markdown",
   "metadata": {},
   "source": [
    "# Обучаем модель"
   ]
  },
  {
   "cell_type": "code",
   "execution_count": null,
   "metadata": {},
   "outputs": [],
   "source": [
    "np.random.seed(11)\n",
    "w = np.random.normal(scale=0.001, size = data.shape[1])\n",
    "\n",
    "# Loss gradient\n",
    "def grad(x, y, w):\n",
    "    return (-1)*y*x/(1 + np.exp(y*np.dot(w.T, x))) + reg_param*w\n",
    "\n",
    "# Logloss calculation\n",
    "def logloss(x, y, w):\n",
    "    buf_loss = 0\n",
    "    for i in range(y.shape[0]):\n",
    "        buf_loss += np.log(1 + np.exp(-y[i]*np.dot(w.T, x[i])))\n",
    "    return buf_loss/y.shape[0]\n",
    "\n",
    "# Accuracy calculation\n",
    "def accuracy(x, y, w):\n",
    "    n_true = 0\n",
    "    for i in range(y.shape[0]):\n",
    "        p = 1/(1+np.exp(-np.dot(w.T, x[i])))\n",
    "        if p > 0.5:\n",
    "            y_predicted = 1\n",
    "        else:\n",
    "            y_predicted = -1\n",
    "        if y_predicted == y[i]:\n",
    "            n_true += 1\n",
    "    return n_true/y.shape[0]\n",
    "\n",
    "# Learning epoch\n",
    "def launch_train(w):   \n",
    "    for epoch in tqdm.tqdm_notebook(range(batch)):\n",
    "        j = np.random.randint(0, x_train.shape[0])\n",
    "        w -= learn_rate*grad(x_train[j], y_train[j], w)\n",
    "        \n",
    "        if (epoch % btch) == 0:\n",
    "            tr_loss.append(logloss(x_train, y_train, w))        \n",
    "            te_loss.append(logloss(x_valid, y_valid, w))\n",
    "            tr_acc.append(accuracy(x_train, y_train, w))\n",
    "            te_acc.append(accuracy(x_valid, y_valid, w))"
   ]
  },
  {
   "cell_type": "code",
   "execution_count": null,
   "metadata": {},
   "outputs": [],
   "source": [
    "# Launch\n",
    "tr_loss = []\n",
    "te_loss = []\n",
    "tr_acc = []\n",
    "te_acc = []\n",
    "reg_param = 0\n",
    "learn_rate = 0.03\n",
    "batch = 6500\n",
    "btch = 400\n",
    "\n",
    "cross_validation(data, labels, k_fold=3)\n",
    "launch_train(w)"
   ]
  },
  {
   "cell_type": "markdown",
   "metadata": {},
   "source": [
    "# Оцениваем результат"
   ]
  },
  {
   "cell_type": "markdown",
   "metadata": {},
   "source": [
    "Обязательно отрисуйте 2 графика:\n",
    "- loss на обучающем и тестовом множесте\n",
    "- % правильно классифицированных примеров на тестовом и обучающем множестве"
   ]
  },
  {
   "cell_type": "code",
   "execution_count": null,
   "metadata": {},
   "outputs": [],
   "source": [
    "plt.title('Loss')\n",
    "plt.plot(tr_loss, label='train')\n",
    "plt.plot(te_loss, label='test')\n",
    "plt.legend()"
   ]
  },
  {
   "cell_type": "code",
   "execution_count": null,
   "metadata": {},
   "outputs": [],
   "source": [
    "plt.title('Acc')\n",
    "plt.plot(tr_acc, label='train')\n",
    "plt.plot(te_acc, label='test')\n",
    "plt.legend()"
   ]
  },
  {
   "cell_type": "markdown",
   "metadata": {},
   "source": [
    "# Сохраняем данные для кагла"
   ]
  },
  {
   "cell_type": "markdown",
   "metadata": {},
   "source": [
    "https://www.kaggle.com/t/513ea517806348848dc78c4f41d44528"
   ]
  },
  {
   "cell_type": "markdown",
   "metadata": {},
   "source": [
    "Результат записывается в простой текстовый файл. Первая строчка \"Id,Prediction\", далее для каждого примера из валидационного множества записывается его Id (порядковый номер, с нуля) и вероятность принадлежности к классу '6', например '123,0.12'.\n",
    "\n",
    "Важно соблюдать тот же порядок следования элементов, что и в наборе данных. Нумерация id с 0"
   ]
  },
  {
   "cell_type": "code",
   "execution_count": null,
   "metadata": {},
   "outputs": [],
   "source": [
    "X = np.asfarray(test_no_lables['data'])\n",
    "X = X / 255\n",
    "\n",
    "def predict(x): \n",
    "    return 1 / (1 + np.exp(-np.dot(w, x)))\n",
    "\n",
    "# compute Y_pred\n",
    "Y_pred = np.zeros(X.shape[0], dtype=float)\n",
    "for i in range(X.shape[0]):\n",
    "    Y_pred[i] = predict(X[i])    \n",
    "\n",
    "with open('solution.csv', 'w') as fout:\n",
    "    print(\"Id,Prediction\", file=fout)\n",
    "    for i in range(X.shape[0]):\n",
    "        print(i, Y_pred[i], sep=',', file=fout)"
   ]
  },
  {
   "cell_type": "markdown",
   "metadata": {},
   "source": [
    "# Сдача"
   ]
  },
  {
   "cell_type": "markdown",
   "metadata": {},
   "source": [
    "1. Регистрируетесь на конкурс https://www.kaggle.com/t/513ea517806348848dc78c4f41d44528 \n",
    "1. Преодолеваете \"Pass level\" baseline\n",
    "1. После того, как вы преодолеете baseline, присылайте ноутбук с решение по адресу **voropaev@corp.mail.ru**\n",
    "\n",
    "# Внимание\n",
    "- Тему письма писать в формате \"[МИФИ][1] Фамилия\"\n",
    "- Внутри писма прикрепляете файл ноутбука с именем family.ipynb"
   ]
  }
 ],
 "metadata": {
  "kernelspec": {
   "display_name": "Python 3",
   "language": "python",
   "name": "python3"
  },
  "language_info": {
   "codemirror_mode": {
    "name": "ipython",
    "version": 3
   },
   "file_extension": ".py",
   "mimetype": "text/x-python",
   "name": "python",
   "nbconvert_exporter": "python",
   "pygments_lexer": "ipython3",
   "version": "3.6.6"
  }
 },
 "nbformat": 4,
 "nbformat_minor": 2
}
