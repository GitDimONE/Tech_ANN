{
 "cells": [
  {
   "cell_type": "code",
   "execution_count": 1,
   "metadata": {},
   "outputs": [],
   "source": [
    "import pickle\n",
    "import numpy as np\n",
    "import PIL.Image\n",
    "import itertools\n",
    "from IPython.core.display import Image, display\n",
    "import scipy.ndimage\n",
    "import random\n",
    "import matplotlib.pylab as plt\n",
    "import tqdm\n",
    "import math\n",
    "%matplotlib inline"
   ]
  },
  {
   "cell_type": "markdown",
   "metadata": {
    "collapsed": true
   },
   "source": [
    "# Загружаем датасет"
   ]
  },
  {
   "cell_type": "code",
   "execution_count": 51,
   "metadata": {},
   "outputs": [],
   "source": [
    "with open('./hw_1_train.pickle', 'rb') as f:\n",
    "    train = pickle.load(f)\n",
    "\n",
    "with open('./hw_1_test_no_lables.pickle', 'rb') as f:\n",
    "    test_no_lables = pickle.load(f)\n",
    "\n",
    "labels, data = np.array(train['labels'], dtype=np.float64) , np.array(train['data'], dtype=np.float64) # Сonversion to float!"
   ]
  },
  {
   "cell_type": "code",
   "execution_count": 3,
   "metadata": {},
   "outputs": [],
   "source": [
    "# Show i'th image\n",
    "def show_image(img):\n",
    "    plt.imshow(img.reshape(28,28))"
   ]
  },
  {
   "cell_type": "code",
   "execution_count": 52,
   "metadata": {},
   "outputs": [],
   "source": [
    "# Normalizing and classification -1/+1\n",
    "def pixel_norm(x):\n",
    "    for i,pixel in enumerate(x):\n",
    "        x[i] = pixel/255\n",
    "    return x\n",
    "\n",
    "def classification(y):\n",
    "    for i,label in enumerate(y):\n",
    "        y[i]=-1 if label==5 else 1\n",
    "    return y\n",
    "\n",
    "data = pixel_norm(data)\n",
    "labels = classification(labels)"
   ]
  },
  {
   "cell_type": "markdown",
   "metadata": {},
   "source": [
    "# Создание модели"
   ]
  },
  {
   "cell_type": "code",
   "execution_count": 5,
   "metadata": {},
   "outputs": [
    {
     "data": {
      "text/plain": [
       "[<matplotlib.lines.Line2D at 0x228a1b5b9b0>]"
      ]
     },
     "execution_count": 5,
     "metadata": {},
     "output_type": "execute_result"
    },
    {
     "data": {
      "image/png": "[encoded data removed]",
      "text/plain": [
       "<Figure size 432x288 with 1 Axes>"
      ]
     },
     "metadata": {
      "needs_background": "light"
     },
     "output_type": "display_data"
    }
   ],
   "source": [
    "# Creating two perceptrons in output layer\n",
    "'''Global weight declaration for multiple Runs capabilities'''\n",
    "\n",
    "np.random.seed(20)\n",
    "w = np.array(data.shape[1])\n",
    "w = np.random.normal(scale=0.001, size = data.shape[1])\n",
    "plt.plot(w)"
   ]
  },
  {
   "cell_type": "code",
   "execution_count": 64,
   "metadata": {},
   "outputs": [
    {
     "name": "stdout",
     "output_type": "stream",
     "text": [
      "Training images: 6667\n",
      "Validation images: 3333\n"
     ]
    }
   ],
   "source": [
    "# k-fold Cross Validation Scheme with shuffling\n",
    "'''k-fold must be 'None' or 2,3..'''\n",
    "\n",
    "k_fold = 3\n",
    "\n",
    "def cross_validation(data, labels):\n",
    "    global x_train, y_train\n",
    "    data_set = np.insert(data, 0, labels, axis=1) # Insert labels(y) in each image(x) row\n",
    "    random.shuffle(data_set)\n",
    "    if k_fold != None:\n",
    "        global x_valid, y_valid \n",
    "        train = np.asarray([x for i, x in enumerate(data_set) if i % k_fold != 1])\n",
    "        valid = np.asarray([x for i, x in enumerate(data_set) if i % k_fold == 1])\n",
    "        y_train, x_train = train[:, 0], train[:, np.r_[1:train.shape[1]]] \n",
    "        y_valid, x_valid = valid[:, 0], valid[:, np.r_[1:train.shape[1]]]\n",
    "        print(\"Training images:\", x_train.shape[0])\n",
    "        print(\"Validation images:\", x_valid.shape[0])\n",
    "    else:\n",
    "        train = np.asarray(data_set)\n",
    "        y_train, x_train = train[:, 0], train[:, np.r_[1:train.shape[1]]]\n",
    "        print(\"Validation images:\", x_train.shape[0])\n",
    "\n",
    "cross_validation(data, labels)\n",
    "\n",
    "loss_train = []\n",
    "loss_valid = []\n",
    "acc_train = []\n",
    "acc_valid = []"
   ]
  },
  {
   "cell_type": "code",
   "execution_count": null,
   "metadata": {},
   "outputs": [],
   "source": []
  },
  {
   "cell_type": "markdown",
   "metadata": {},
   "source": [
    "# Обучаем модель"
   ]
  },
  {
   "cell_type": "code",
   "execution_count": 28,
   "metadata": {},
   "outputs": [],
   "source": [
    "# Stochastic gradient descent\n",
    "reg_param = 0.01\n",
    "def sgd(x, y, weight):\n",
    "    return (-1)*y*x/(1 + np.exp(y*np.dot(weight.T, x))) + reg_param*weight"
   ]
  },
  {
   "cell_type": "code",
   "execution_count": 8,
   "metadata": {},
   "outputs": [],
   "source": [
    "# Logloss calculation\n",
    "def lgs(x, y, weight):\n",
    "    return np.log(1 + np.exp(-y*np.dot(weight.T, x)))"
   ]
  },
  {
   "cell_type": "code",
   "execution_count": 9,
   "metadata": {},
   "outputs": [],
   "source": [
    "# Learning steps\n",
    "learn_rate = 0.001\n",
    "def lrn_step(x, y, weight):\n",
    "    return learn_rate*sgd(x, y, weight)\n",
    "    "
   ]
  },
  {
   "cell_type": "code",
   "execution_count": 10,
   "metadata": {},
   "outputs": [],
   "source": [
    "def accuracy(x, y, weight, treshold):\n",
    "    n_all = x.shape[0]\n",
    "    n_true = 0\n",
    "    for row in x:\n",
    "        activation = 1/(1+np.exp(-y*np.dot(weight.T, row)))\n",
    "        if activation > treshold:\n",
    "            n_true += 1\n",
    "    return n_true/n_all"
   ]
  },
  {
   "cell_type": "code",
   "execution_count": 11,
   "metadata": {},
   "outputs": [],
   "source": [
    "# Learning epoch\n",
    "mini_batch_size = 100\n",
    "def epoch():\n",
    "    global w\n",
    "    batch_loss = 0\n",
    "    loss = []\n",
    "    for it in tqdm.tqdm_notebook(range(y_train.shape[0])):\n",
    "        \n",
    "        j = np.random.randint(0, y_train.shape[0])    \n",
    "        \n",
    "        w -= lrn_step(x_train[j], y_train[j], w)\n",
    "        \n",
    "        batch_loss += lgs(x_train[j], y_train[j], w) \n",
    "        \n",
    "        if ((it+1) % mini_batch_size == 0):\n",
    "            loss = np.append(loss, (batch_loss/mini_batch_size))\n",
    "            batch_loss = 0\n",
    "            #acc = np.append(acc, accuracy(x, y[j], w, 0.4)) \n",
    "    return loss"
   ]
  },
  {
   "cell_type": "code",
   "execution_count": 65,
   "metadata": {},
   "outputs": [
    {
     "data": {
      "application/vnd.jupyter.widget-view+json": {
       "model_id": "d25ed4baf3c2453eb6b51552c93b78e2",
       "version_major": 2,
       "version_minor": 0
      },
      "text/plain": [
       "HBox(children=(IntProgress(value=0, max=6667), HTML(value='')))"
      ]
     },
     "metadata": {},
     "output_type": "display_data"
    },
    {
     "name": "stdout",
     "output_type": "stream",
     "text": [
      "\n"
     ]
    },
    {
     "ename": "TypeError",
     "evalue": "'numpy.ndarray' object is not callable",
     "output_type": "error",
     "traceback": [
      "\u001b[1;31m---------------------------------------------------------------------------\u001b[0m",
      "\u001b[1;31mTypeError\u001b[0m                                 Traceback (most recent call last)",
      "\u001b[1;32m<ipython-input-65-2196414729d1>\u001b[0m in \u001b[0;36m<module>\u001b[1;34m()\u001b[0m\n\u001b[1;32m----> 1\u001b[1;33m \u001b[0mloss_train\u001b[0m \u001b[1;33m=\u001b[0m \u001b[0mepoch\u001b[0m\u001b[1;33m(\u001b[0m\u001b[1;33m)\u001b[0m\u001b[1;33m\u001b[0m\u001b[0m\n\u001b[0m",
      "\u001b[1;32m<ipython-input-11-016567aaf8f8>\u001b[0m in \u001b[0;36mepoch\u001b[1;34m()\u001b[0m\n\u001b[0;32m     11\u001b[0m         \u001b[0mw\u001b[0m \u001b[1;33m-=\u001b[0m \u001b[0mlrn_step\u001b[0m\u001b[1;33m(\u001b[0m\u001b[0mx_train\u001b[0m\u001b[1;33m[\u001b[0m\u001b[0mj\u001b[0m\u001b[1;33m]\u001b[0m\u001b[1;33m,\u001b[0m \u001b[0my_train\u001b[0m\u001b[1;33m[\u001b[0m\u001b[0mj\u001b[0m\u001b[1;33m]\u001b[0m\u001b[1;33m,\u001b[0m \u001b[0mw\u001b[0m\u001b[1;33m)\u001b[0m\u001b[1;33m\u001b[0m\u001b[0m\n\u001b[0;32m     12\u001b[0m \u001b[1;33m\u001b[0m\u001b[0m\n\u001b[1;32m---> 13\u001b[1;33m         \u001b[0mbatch_loss\u001b[0m \u001b[1;33m+=\u001b[0m \u001b[0mlgs\u001b[0m\u001b[1;33m(\u001b[0m\u001b[0mx_train\u001b[0m\u001b[1;33m[\u001b[0m\u001b[0mj\u001b[0m\u001b[1;33m]\u001b[0m\u001b[1;33m,\u001b[0m \u001b[0my_train\u001b[0m\u001b[1;33m[\u001b[0m\u001b[0mj\u001b[0m\u001b[1;33m]\u001b[0m\u001b[1;33m,\u001b[0m \u001b[0mw\u001b[0m\u001b[1;33m)\u001b[0m\u001b[1;33m\u001b[0m\u001b[0m\n\u001b[0m\u001b[0;32m     14\u001b[0m \u001b[1;33m\u001b[0m\u001b[0m\n\u001b[0;32m     15\u001b[0m         \u001b[1;32mif\u001b[0m \u001b[1;33m(\u001b[0m\u001b[1;33m(\u001b[0m\u001b[0mit\u001b[0m\u001b[1;33m+\u001b[0m\u001b[1;36m1\u001b[0m\u001b[1;33m)\u001b[0m \u001b[1;33m%\u001b[0m \u001b[0mmini_batch_size\u001b[0m \u001b[1;33m==\u001b[0m \u001b[1;36m0\u001b[0m\u001b[1;33m)\u001b[0m\u001b[1;33m:\u001b[0m\u001b[1;33m\u001b[0m\u001b[0m\n",
      "\u001b[1;31mTypeError\u001b[0m: 'numpy.ndarray' object is not callable"
     ]
    }
   ],
   "source": [
    "loss_train = epoch()"
   ]
  },
  {
   "cell_type": "code",
   "execution_count": 60,
   "metadata": {},
   "outputs": [
    {
     "name": "stdout",
     "output_type": "stream",
     "text": [
      "Training Loss:  0.07226780487082851\n"
     ]
    },
    {
     "data": {
      "image/png": "[encoded data removed]",
      "text/plain": [
       "<Figure size 432x288 with 1 Axes>"
      ]
     },
     "metadata": {
      "needs_background": "light"
     },
     "output_type": "display_data"
    }
   ],
   "source": [
    "plt.title('Loss')\n",
    "plt.plot(loss_train, label='train')\n",
    "#plt.plot(loss_valid, label='test')\n",
    "plt.legend()\n",
    "\n",
    "print(\"Training Loss: \", loss_train[-1])"
   ]
  },
  {
   "cell_type": "code",
   "execution_count": 56,
   "metadata": {},
   "outputs": [
    {
     "data": {
      "text/plain": [
       "<matplotlib.legend.Legend at 0x228a1e67668>"
      ]
     },
     "execution_count": 56,
     "metadata": {},
     "output_type": "execute_result"
    },
    {
     "data": {
      "image/png": "[encoded data removed]",
      "text/plain": [
       "<Figure size 432x288 with 1 Axes>"
      ]
     },
     "metadata": {
      "needs_background": "light"
     },
     "output_type": "display_data"
    }
   ],
   "source": [
    "plt.title('Acc')\n",
    "plt.plot(acc_train, label='train')\n",
    "#plt.plot(acc_valid, label='test')\n",
    "plt.legend()"
   ]
  },
  {
   "cell_type": "code",
   "execution_count": 61,
   "metadata": {},
   "outputs": [
    {
     "name": "stdout",
     "output_type": "stream",
     "text": [
      "Вероятность того, что это 5 -  0.9954645603672397 ;\n",
      "Вероятность того, что это 6 -  0.004535439632760282\n"
     ]
    },
    {
     "data": {
      "image/png": "[encoded data removed]",
      "text/plain": [
       "<Figure size 432x288 with 1 Axes>"
      ]
     },
     "metadata": {
      "needs_background": "light"
     },
     "output_type": "display_data"
    }
   ],
   "source": [
    "def predict(x): \n",
    "    return float(1. / (1. + np.exp(-np.dot(w, x))))\n",
    "\n",
    "p_train = np.zeros((x_train.shape[0]))\n",
    "p_valid = np.zeros((x_valid.shape[0]))\n",
    "\n",
    "num = 0\n",
    "for i in range(x_valid.shape[0]):\n",
    "    p_valid[i] = predict(x_valid[i])\n",
    "    if (p_valid[i] > 0.5):\n",
    "        num += 1\n",
    "accur = num/x_valid.shape[0]\n",
    "\n",
    "k = 0\n",
    "#print(accur)\n",
    "print(\"Вероятность того, что это 5 - \", 1 - p_valid[k], \";\\nВероятность того, что это 6 - \", p_valid[k])\n",
    "show_image(x_valid[k])\n"
   ]
  },
  {
   "cell_type": "code",
   "execution_count": 63,
   "metadata": {},
   "outputs": [
    {
     "name": "stdout",
     "output_type": "stream",
     "text": [
      "0.09929255744099025\n"
     ]
    }
   ],
   "source": [
    "def logloss(true_label, predicted_prob):\n",
    "    if true_label == 1:\n",
    "        return -math.log(predicted_prob)\n",
    "    else:\n",
    "        return -math.log(1 - predicted_prob)\n",
    "    \n",
    "for i in range(x_valid.shape[0]):\n",
    "    lgs = np.append(lgs, (logloss(y_valid[i], p_valid[i])))\n",
    "    \n",
    "print(lgs[-1])"
   ]
  },
  {
   "cell_type": "markdown",
   "metadata": {},
   "source": [
    "# Оцениваем результат"
   ]
  },
  {
   "cell_type": "markdown",
   "metadata": {},
   "source": [
    "Обязательно отрисуйте 2 графика:\n",
    "- loss на обучающем и тестовом множесте\n",
    "- % правильно классифицированных примеров на тестовом и обучающем множестве"
   ]
  },
  {
   "cell_type": "code",
   "execution_count": 17,
   "metadata": {},
   "outputs": [
    {
     "ename": "NameError",
     "evalue": "name 'logloss_array' is not defined",
     "output_type": "error",
     "traceback": [
      "\u001b[1;31m---------------------------------------------------------------------------\u001b[0m",
      "\u001b[1;31mNameError\u001b[0m                                 Traceback (most recent call last)",
      "\u001b[1;32m<ipython-input-17-63a53e5de8bc>\u001b[0m in \u001b[0;36m<module>\u001b[1;34m()\u001b[0m\n\u001b[0;32m      1\u001b[0m \u001b[0mplt\u001b[0m\u001b[1;33m.\u001b[0m\u001b[0mtitle\u001b[0m\u001b[1;33m(\u001b[0m\u001b[1;34m'Loss'\u001b[0m\u001b[1;33m)\u001b[0m\u001b[1;33m\u001b[0m\u001b[0m\n\u001b[1;32m----> 2\u001b[1;33m \u001b[0mplt\u001b[0m\u001b[1;33m.\u001b[0m\u001b[0mplot\u001b[0m\u001b[1;33m(\u001b[0m\u001b[0mlogloss_array\u001b[0m\u001b[1;33m[\u001b[0m\u001b[1;36m0\u001b[0m\u001b[1;33m]\u001b[0m\u001b[1;33m,\u001b[0m \u001b[0mlabel\u001b[0m\u001b[1;33m=\u001b[0m\u001b[1;34m'train'\u001b[0m\u001b[1;33m)\u001b[0m\u001b[1;33m\u001b[0m\u001b[0m\n\u001b[0m\u001b[0;32m      3\u001b[0m \u001b[0mplt\u001b[0m\u001b[1;33m.\u001b[0m\u001b[0mplot\u001b[0m\u001b[1;33m(\u001b[0m\u001b[1;33m[\u001b[0m\u001b[0me\u001b[0m\u001b[1;33m[\u001b[0m\u001b[1;36m0\u001b[0m\u001b[1;33m]\u001b[0m \u001b[1;32mfor\u001b[0m \u001b[0me\u001b[0m \u001b[1;32min\u001b[0m \u001b[0mte_eval\u001b[0m\u001b[1;33m]\u001b[0m\u001b[1;33m,\u001b[0m \u001b[0mlabel\u001b[0m\u001b[1;33m=\u001b[0m\u001b[1;34m'test'\u001b[0m\u001b[1;33m)\u001b[0m\u001b[1;33m\u001b[0m\u001b[0m\n\u001b[0;32m      4\u001b[0m \u001b[0mplt\u001b[0m\u001b[1;33m.\u001b[0m\u001b[0mlegend\u001b[0m\u001b[1;33m(\u001b[0m\u001b[1;33m)\u001b[0m\u001b[1;33m\u001b[0m\u001b[0m\n",
      "\u001b[1;31mNameError\u001b[0m: name 'logloss_array' is not defined"
     ]
    },
    {
     "data": {
      "image/png": "[encoded data removed]",
      "text/plain": [
       "<Figure size 432x288 with 1 Axes>"
      ]
     },
     "metadata": {
      "needs_background": "light"
     },
     "output_type": "display_data"
    }
   ],
   "source": [
    "plt.title('Loss')\n",
    "plt.plot(logloss_array[0], label='train')\n",
    "plt.plot([e[0] for e in te_eval], label='test')\n",
    "plt.legend()"
   ]
  },
  {
   "cell_type": "code",
   "execution_count": null,
   "metadata": {},
   "outputs": [],
   "source": [
    "plt.title('Acc')\n",
    "plt.plot([e[1] for e in tr_eval], label='train')\n",
    "plt.plot([e[1] for e in te_eval], label='test')\n",
    "plt.legend()"
   ]
  },
  {
   "cell_type": "markdown",
   "metadata": {},
   "source": [
    "# Сохраняем данные для кагла"
   ]
  },
  {
   "cell_type": "markdown",
   "metadata": {},
   "source": [
    "https://www.kaggle.com/t/513ea517806348848dc78c4f41d44528"
   ]
  },
  {
   "cell_type": "markdown",
   "metadata": {},
   "source": [
    "Результат записывается в простой текстовый файл. Первая строчка \"Id,Prediction\", далее для каждого примера из валидационного множества записывается его Id (порядковый номер, с нуля) и вероятность принадлежности к классу '6', например '123,0.12'.\n",
    "\n",
    "Важно соблюдать тот же порядок следования элементов, что и в наборе данных. Нумерация id с 0"
   ]
  },
  {
   "cell_type": "code",
   "execution_count": null,
   "metadata": {},
   "outputs": [],
   "source": [
    "X = test_no_lables['data']\n",
    "\n",
    "# compute Y_pred\n",
    "Y_pred = np.zeros(X.shape[0], dtype=float)\n",
    "for i in range(X.shape[0]):\n",
    "    Y_pred[i] = predict(X[i])\n",
    "\n",
    "with open('solution.csv', 'w') as fout:\n",
    "    print(\"Id,Prediction\", file=fout)\n",
    "    for i in range(X.shape[0]):\n",
    "        print(i, Y_pred[i], sep=',', file=fout)\n",
    "\n",
    "k = 623\n",
    "show_image(X[k])\n",
    "print(Y_pred[k])"
   ]
  },
  {
   "cell_type": "markdown",
   "metadata": {},
   "source": [
    "# Сдача"
   ]
  },
  {
   "cell_type": "markdown",
   "metadata": {},
   "source": [
    "1. Регистрируетесь на конкурс https://www.kaggle.com/t/513ea517806348848dc78c4f41d44528 \n",
    "1. Преодолеваете \"Pass level\" baseline\n",
    "1. После того, как вы преодолеете baseline, присылайте ноутбук с решение по адресу **voropaev@corp.mail.ru**\n",
    "\n",
    "# Внимание\n",
    "- Тему письма писать в формате \"[МИФИ][1] Фамилия\"\n",
    "- Внутри писма прикрепляете файл ноутбука с именем family.ipynb"
   ]
  }
 ],
 "metadata": {
  "kernelspec": {
   "display_name": "Python 3",
   "language": "python",
   "name": "python3"
  },
  "language_info": {
   "codemirror_mode": {
    "name": "ipython",
    "version": 3
   },
   "file_extension": ".py",
   "mimetype": "text/x-python",
   "name": "python",
   "nbconvert_exporter": "python",
   "pygments_lexer": "ipython3",
   "version": "3.6.6"
  }
 },
 "nbformat": 4,
 "nbformat_minor": 2
}
